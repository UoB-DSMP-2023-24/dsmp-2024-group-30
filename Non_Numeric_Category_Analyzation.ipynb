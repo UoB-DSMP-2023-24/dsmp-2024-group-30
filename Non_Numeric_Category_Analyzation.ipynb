{
 "cells": [
  {
   "cell_type": "code",
   "execution_count": 1,
   "metadata": {},
   "outputs": [],
   "source": [
    "import pandas as pd\n",
    "import seaborn as sb\n",
    "\n",
    "# df = pd.read_csv('/Users/sachacollinson/Downloads/fake_transactional_data_24.csv')\n",
    "# df_NonNumeric_Mapping = pd.read_excel('/Users/sachacollinson/Downloads/Location_value_pairs.xlsx')\n",
    "df = pd.read_csv('/Users/thanaparleelasathapornkun/Library/Mobile Documents/com~apple~CloudDocs/Term2/python_working/Mini_Project_python_working/fake_transactional_data_24.csv', encoding='utf-8')\n",
    "df_NonNumeric_Mapping = pd.read_excel('/Users/thanaparleelasathapornkun/Library/Mobile Documents/com~apple~CloudDocs/Term2/python_working/Mini_Project_python_working/Location_value_pairs.xlsx')\n",
    "\n",
    "df = df.rename(columns={\"from_totally_fake_account\": \"AccountNumber\", \"monopoly_money_amount\": \"MoneyTransferAmount\", \"to_randomly_generated_account\": \"TransferredLocationAccount\", \"not_happened_yet_date\": \"TransactionDate\"})\n",
    "# from_totally_fake_account  = AccountNumber\n",
    "# monopoly_money_amount = MoneyTransferAmount\n",
    "# to_randomly_generated_account = TransferredLocationAccount\n",
    "# not_happened_yet_date = TransactionDate\n",
    "df['TransactionDate'] = pd.to_datetime(df['TransactionDate'], format=\"%d/%m/%Y\").dt.date\n",
    "df = df.sort_values(by=['TransactionDate'])\n",
    "\n",
    "#non-numeric and numeric value\n",
    "df_Transferred_numeric = df[df['TransferredLocationAccount'].apply(lambda x: str(x).isnumeric())].copy()\n",
    "df_Transferred_Non_Numeric = df[df['TransferredLocationAccount'].apply(lambda x: str(x).isnumeric()==False)].copy()"
   ]
  },
  {
   "cell_type": "code",
   "execution_count": 2,
   "metadata": {},
   "outputs": [
    {
     "name": "stdout",
     "output_type": "stream",
     "text": [
      "          AccountNumber  MoneyTransferAmount TransferredLocationAccount  \\\n",
      "0               10371.0                 4.00                     CINEMA   \n",
      "13385           98994.0                 2.65                COFFEE_SHOP   \n",
      "13384           98994.0                 2.20        A_LOCAL_COFFEE_SHOP   \n",
      "13383           34189.0                14.50                        BAR   \n",
      "13382           86417.0                 4.35                COFFEE_SHOP   \n",
      "...                 ...                  ...                        ...   \n",
      "10137338        35802.0                 1.95        HIPSTER_COFFEE_SHOP   \n",
      "10137339        35802.0                 2.55        GOURMET_COFFEE_SHOP   \n",
      "10137341        48432.0                 2.45                COFFEE_SHOP   \n",
      "10137342        35802.0                 5.30                COFFEE_SHOP   \n",
      "10148279        53444.0                 2.65        A_LOCAL_COFFEE_SHOP   \n",
      "\n",
      "         TransactionDate CategoryTransferredLocationAccount  \n",
      "0             2025-01-01                               FILM  \n",
      "13385         2025-01-01                             COFFEE  \n",
      "13384         2025-01-01                             COFFEE  \n",
      "13383         2025-01-01                                BAR  \n",
      "13382         2025-01-01                             COFFEE  \n",
      "...                  ...                                ...  \n",
      "10137338      2025-12-31                             COFFEE  \n",
      "10137339      2025-12-31                             COFFEE  \n",
      "10137341      2025-12-31                             COFFEE  \n",
      "10137342      2025-12-31                             COFFEE  \n",
      "10148279      2025-12-31                             COFFEE  \n",
      "\n",
      "[7615517 rows x 5 columns]\n",
      "          AccountNumber  MoneyTransferAmount TransferredLocationAccount  \\\n",
      "0               10371.0                 4.00                     CINEMA   \n",
      "13385           98994.0                 2.65                COFFEE_SHOP   \n",
      "13384           98994.0                 2.20        A_LOCAL_COFFEE_SHOP   \n",
      "13383           34189.0                14.50                        BAR   \n",
      "13382           86417.0                 4.35                COFFEE_SHOP   \n",
      "...                 ...                  ...                        ...   \n",
      "10137320        41950.0                 6.00                      21887   \n",
      "10137322         8097.0                 5.00                      84802   \n",
      "10137336        99012.0                 6.50                      27845   \n",
      "10137340        60186.0                 2.65                      35802   \n",
      "10137248        42065.0                 6.00                      83201   \n",
      "\n",
      "         TransactionDate CategoryTransferredLocationAccount  \n",
      "0             2025-01-01                               FILM  \n",
      "13385         2025-01-01                             COFFEE  \n",
      "13384         2025-01-01                             COFFEE  \n",
      "13383         2025-01-01                                BAR  \n",
      "13382         2025-01-01                             COFFEE  \n",
      "...                  ...                                ...  \n",
      "10137320      2025-12-31                            Numeric  \n",
      "10137322      2025-12-31                            Numeric  \n",
      "10137336      2025-12-31                            Numeric  \n",
      "10137340      2025-12-31                            Numeric  \n",
      "10137248      2025-12-31                            Numeric  \n",
      "\n",
      "[10148280 rows x 5 columns]\n"
     ]
    },
    {
     "name": "stderr",
     "output_type": "stream",
     "text": [
      "/var/folders/__/6m3ls1tn1m5btytc8x1n4_j40000gn/T/ipykernel_5527/1807506615.py:13: FutureWarning: A value is trying to be set on a copy of a DataFrame or Series through chained assignment using an inplace method.\n",
      "The behavior will change in pandas 3.0. This inplace method will never work because the intermediate object on which we are setting values always behaves as a copy.\n",
      "\n",
      "For example, when doing 'df[col].method(value, inplace=True)', try using 'df.method({col: value}, inplace=True)' or df[col] = df[col].method(value) instead, to perform the operation inplace on the original object.\n",
      "\n",
      "\n",
      "  df2['CategoryTransferredLocationAccount'].fillna('Numeric', inplace=True)\n"
     ]
    }
   ],
   "source": [
    "\n",
    "df_NonNumeric_Mapping['Key'] = df_NonNumeric_Mapping['Key'].str.strip()\n",
    "mapping_dict = df_NonNumeric_Mapping.to_dict(orient='records')\n",
    "mapped_dict = {entry['Key']: entry['Value'] for entry in mapping_dict}\n",
    "\n",
    "# # Create a new column by mapping values from the 'key' column using the mapping dictionary\n",
    "df_Transferred_Non_Numeric['CategoryTransferredLocationAccount'] = df_Transferred_Non_Numeric['TransferredLocationAccount'].map(mapped_dict)\n",
    "\n",
    "# # Print the DataFrame with the new column\n",
    "print(df_Transferred_Non_Numeric)\n",
    " \n",
    "frames = [df_Transferred_Non_Numeric,df_Transferred_numeric]\n",
    "df2 = pd.concat(frames)\n",
    "df2['CategoryTransferredLocationAccount'].fillna('Numeric', inplace=True)\n",
    "print(df2)\n",
    "#test"
   ]
  },
  {
   "cell_type": "markdown",
   "metadata": {},
   "source": [
    "Working out the Recency, Frequency and Monetary Values and Scores\n"
   ]
  },
  {
   "cell_type": "code",
   "execution_count": 3,
   "metadata": {},
   "outputs": [
    {
     "name": "stdout",
     "output_type": "stream",
     "text": [
      "               Recency  Frequency  MonetaryValue  R_Score  F_Score  M_Score  \\\n",
      "AccountNumber                                                                 \n",
      "1000.0               0       1710       28698.51        1        1        3   \n",
      "1002.0               0       1043       15622.97        1        3        1   \n",
      "1006.0               0       1841       18778.19        1        1        2   \n",
      "1018.0               1        805       15612.21        4        4        1   \n",
      "1053.0               0       1319       19444.57        1        2        2   \n",
      "\n",
      "              RFM_Score  \n",
      "AccountNumber            \n",
      "1000.0              113  \n",
      "1002.0              131  \n",
      "1006.0              112  \n",
      "1018.0              441  \n",
      "1053.0              122  \n"
     ]
    }
   ],
   "source": [
    "# Ensure TransactionDate is in datetime format\n",
    "df2['TransactionDate'] = pd.to_datetime(df['TransactionDate'], dayfirst=True)  # Adjusting for day-first format\n",
    "end_date = pd.Timestamp('2025-12-31')\n",
    "\n",
    "# RFM Calculation\n",
    "rfm = df2.groupby('AccountNumber').agg({\n",
    "    'TransactionDate': lambda x: (end_date - x.max()).days,\n",
    "    'AccountNumber': 'count',\n",
    "    'MoneyTransferAmount': 'sum'\n",
    "}).rename(columns={'TransactionDate': 'Recency',\n",
    "                   'AccountNumber': 'Frequency',\n",
    "                   'MoneyTransferAmount': 'MonetaryValue'})\n",
    "\n",
    "# Scoring RFM values\n",
    "# Quantiles can be adjusted as needed\n",
    "quantiles = rfm.quantile(q=[0.25, 0.5, 0.75])\n",
    "quantiles = quantiles.to_dict()\n",
    "\n",
    "def rfm_score(x, p, d):\n",
    "    if x <= d[p][0.25]:\n",
    "        return 1\n",
    "    elif x <= d[p][0.50]:\n",
    "        return 2\n",
    "    elif x <= d[p][0.75]:\n",
    "        return 3\n",
    "    else:\n",
    "        return 4\n",
    "\n",
    "# Apply the scoring\n",
    "rfm['R_Score'] = rfm['Recency'].apply(rfm_score, args=('Recency', quantiles,))\n",
    "rfm['F_Score'] = rfm['Frequency'].apply(lambda x: 4 if x <= quantiles['Frequency'][0.25] else 3 if x <= quantiles['Frequency'][0.50] else 2 if x <= quantiles['Frequency'][0.75] else 1)\n",
    "rfm['M_Score'] = rfm['MonetaryValue'].apply(rfm_score, args=('MonetaryValue', quantiles,))\n",
    "\n",
    "# Combine RFM scores\n",
    "rfm['RFM_Score'] = rfm['R_Score'].astype(str) + rfm['F_Score'].astype(str) + rfm['M_Score'].astype(str)\n",
    "\n",
    "# Display the final RFM segmentation\n",
    "print(rfm.head())"
   ]
  },
  {
   "cell_type": "markdown",
   "metadata": {},
   "source": [
    "Combining the RFM table and the Original table"
   ]
  },
  {
   "cell_type": "code",
   "execution_count": 4,
   "metadata": {},
   "outputs": [
    {
     "name": "stdout",
     "output_type": "stream",
     "text": [
      "   AccountNumber  MoneyTransferAmount TransferredLocationAccount  \\\n",
      "0        10371.0                 4.00                     CINEMA   \n",
      "1        98994.0                 2.65                COFFEE_SHOP   \n",
      "2        98994.0                 2.20        A_LOCAL_COFFEE_SHOP   \n",
      "3        34189.0                14.50                        BAR   \n",
      "4        86417.0                 4.35                COFFEE_SHOP   \n",
      "\n",
      "  TransactionDate CategoryTransferredLocationAccount  Recency  Frequency  \\\n",
      "0      2025-01-01                               FILM        0       1653   \n",
      "1      2025-01-01                             COFFEE        1        960   \n",
      "2      2025-01-01                             COFFEE        1        960   \n",
      "3      2025-01-01                                BAR        1        874   \n",
      "4      2025-01-01                             COFFEE        0       1692   \n",
      "\n",
      "   MonetaryValue  R_Score  F_Score  M_Score RFM_Score  \n",
      "0       23974.11        1        1        3       113  \n",
      "1       13433.62        4        4        1       441  \n",
      "2       13433.62        4        4        1       441  \n",
      "3       14973.00        4        4        1       441  \n",
      "4       16260.95        1        1        1       111  \n"
     ]
    }
   ],
   "source": [
    "merged_df = pd.merge(df2, rfm, on='AccountNumber', how='left')\n",
    "\n",
    "print(merged_df.head())"
   ]
  },
  {
   "cell_type": "code",
   "execution_count": 6,
   "metadata": {},
   "outputs": [
    {
     "name": "stdout",
     "output_type": "stream",
     "text": [
      "   AccountNumber  MoneyTransferAmount TransferredLocationAccount  \\\n",
      "0        10371.0                 4.00                     CINEMA   \n",
      "1        98994.0                 2.65                COFFEE_SHOP   \n",
      "2        98994.0                 2.20        A_LOCAL_COFFEE_SHOP   \n",
      "3        34189.0                14.50                        BAR   \n",
      "4        86417.0                 4.35                COFFEE_SHOP   \n",
      "\n",
      "  TransactionDate CategoryTransferredLocationAccount  Recency  Frequency  \\\n",
      "0      2025-01-01                               FILM        0       1653   \n",
      "1      2025-01-01                             COFFEE        1        960   \n",
      "2      2025-01-01                             COFFEE        1        960   \n",
      "3      2025-01-01                                BAR        1        874   \n",
      "4      2025-01-01                             COFFEE        0       1692   \n",
      "\n",
      "   MonetaryValue  R_Score  F_Score  M_Score RFM_Score WillingnessToSpend  \n",
      "0       23974.11        1        1        3       113            GROCERY  \n",
      "1       13433.62        4        4        1       441           CLOTHING  \n",
      "2       13433.62        4        4        1       441           CLOTHING  \n",
      "3       14973.00        4        4        1       441           CLOTHING  \n",
      "4       16260.95        1        1        1       111            GROCERY  \n"
     ]
    }
   ],
   "source": [
    "#find AVG money spend for each category for each customers\n",
    "avg_spend = merged_df.groupby(['AccountNumber', 'CategoryTransferredLocationAccount'])['MoneyTransferAmount'].mean().reset_index()\n",
    "\n",
    "#Identifying the category with the highest average spend for each customer\n",
    "AccountNumber_highestAvgSpend_df = avg_spend.loc[avg_spend.groupby('AccountNumber')['MoneyTransferAmount'].idxmax()]\n",
    "\n",
    "# Check if each AccountNumber appears only once\n",
    "# unique_accounts = AccountNumber_highestAvgSpend_df['AccountNumber'].nunique() == AccountNumber_highestAvgSpend_df.shape[0]\n",
    "# print(f\"Each AccountNumber appears only once: {unique_accounts}\")\n",
    "# \n",
    "#Create a new column by mapping values from the 'key' column using the mapping dictionary\n",
    "mapped_dict_lovers = {entry['Value']: entry['Main_Category'] for entry in mapping_dict}\n",
    "mapped_dict_lovers['Numeric'] = 'Numeric'\n",
    "AccountNumber_highestAvgSpend_df['WillingnessToSpend'] = AccountNumber_highestAvgSpend_df['CategoryTransferredLocationAccount'].map(mapped_dict_lovers)\n",
    "result = pd.merge(merged_df, AccountNumber_highestAvgSpend_df[['AccountNumber','WillingnessToSpend']], on='AccountNumber', how='left')\n",
    "\n",
    "print(result.head())\n",
    "# print(result[result['AccountNumber'] == 55938])\n"
   ]
  }
 ],
 "metadata": {
  "kernelspec": {
   "display_name": "Python 3",
   "language": "python",
   "name": "python3"
  },
  "language_info": {
   "codemirror_mode": {
    "name": "ipython",
    "version": 3
   },
   "file_extension": ".py",
   "mimetype": "text/x-python",
   "name": "python",
   "nbconvert_exporter": "python",
   "pygments_lexer": "ipython3",
   "version": "3.9.6"
  }
 },
 "nbformat": 4,
 "nbformat_minor": 2
}
