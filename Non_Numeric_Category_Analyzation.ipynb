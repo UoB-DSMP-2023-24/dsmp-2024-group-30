{
 "cells": [
  {
   "cell_type": "code",
   "execution_count": 1,
   "metadata": {},
   "outputs": [],
   "source": [
    "import pandas as pd\n",
    "import seaborn as sb\n",
    "\n",
    "df = pd.read_csv('/Users/thanaparleelasathapornkun/Library/Mobile Documents/com~apple~CloudDocs/Term2/python_working/Mini_Project_python_working/fake_transactional_data_24.csv', encoding='utf-8')\n",
    "df_NonNumeric_Mapping = pd.read_excel('/Users/thanaparleelasathapornkun/Library/Mobile Documents/com~apple~CloudDocs/Term2/python_working/Mini_Project_python_working/Location_value_pairs.xlsx')\n",
    "df = df.rename(columns={\"from_totally_fake_account\": \"AccountNumber\", \"monopoly_money_amount\": \"MoneyTransferAmount\", \"to_randomly_generated_account\": \"TransferredLocationAccount\", \"not_happened_yet_date\": \"TransactionDate\"})\n",
    "# from_totally_fake_account  = AccountNumber\n",
    "# monopoly_money_amount = MoneyTransferAmount\n",
    "# to_randomly_generated_account = TransferredLocationAccount\n",
    "# not_happened_yet_date = TransactionDate\n",
    "df['TransactionDate'] = pd.to_datetime(df['TransactionDate'], format=\"%d/%m/%Y\").dt.date\n",
    "df = df.sort_values(by=['TransactionDate'])\n",
    "\n",
    "#non-numeric and numeric value\n",
    "df_Transferred_numeric = df[df['TransferredLocationAccount'].apply(lambda x: str(x).isnumeric())].copy()\n",
    "df_Transferred_Non_Numeric = df[df['TransferredLocationAccount'].apply(lambda x: str(x).isnumeric()==False)].copy()"
   ]
  },
  {
   "cell_type": "code",
   "execution_count": 2,
   "metadata": {},
   "outputs": [
    {
     "name": "stdout",
     "output_type": "stream",
     "text": [
      "          AccountNumber  MoneyTransferAmount TransferredLocationAccount  \\\n",
      "0               10371.0                 4.00                     CINEMA   \n",
      "13385           98994.0                 2.65                COFFEE_SHOP   \n",
      "13384           98994.0                 2.20        A_LOCAL_COFFEE_SHOP   \n",
      "13383           34189.0                14.50                        BAR   \n",
      "13382           86417.0                 4.35                COFFEE_SHOP   \n",
      "...                 ...                  ...                        ...   \n",
      "10137338        35802.0                 1.95        HIPSTER_COFFEE_SHOP   \n",
      "10137339        35802.0                 2.55        GOURMET_COFFEE_SHOP   \n",
      "10137341        48432.0                 2.45                COFFEE_SHOP   \n",
      "10137342        35802.0                 5.30                COFFEE_SHOP   \n",
      "10148279        53444.0                 2.65        A_LOCAL_COFFEE_SHOP   \n",
      "\n",
      "         TransactionDate CategoryTransferredLocationAccount  \n",
      "0             2025-01-01                               FILM  \n",
      "13385         2025-01-01                             COFFEE  \n",
      "13384         2025-01-01                             COFFEE  \n",
      "13383         2025-01-01                                BAR  \n",
      "13382         2025-01-01                             COFFEE  \n",
      "...                  ...                                ...  \n",
      "10137338      2025-12-31                             COFFEE  \n",
      "10137339      2025-12-31                             COFFEE  \n",
      "10137341      2025-12-31                             COFFEE  \n",
      "10137342      2025-12-31                             COFFEE  \n",
      "10148279      2025-12-31                             COFFEE  \n",
      "\n",
      "[7615517 rows x 5 columns]\n"
     ]
    }
   ],
   "source": [
    "\n",
    "df_NonNumeric_Mapping['Key'] = df_NonNumeric_Mapping['Key'].str.strip()\n",
    "mapping_dict = df_NonNumeric_Mapping.to_dict(orient='records')\n",
    "mapped_dict = {entry['Key']: entry['Value'] for entry in mapping_dict}\n",
    "\n",
    "# # Create a new column by mapping values from the 'key' column using the mapping dictionary\n",
    "df_Transferred_Non_Numeric['CategoryTransferredLocationAccount'] = df_Transferred_Non_Numeric['TransferredLocationAccount'].map(mapped_dict)\n",
    "\n",
    "# # Print the DataFrame with the new column\n",
    "print(df_Transferred_Non_Numeric)\n"
   ]
  }
 ],
 "metadata": {
  "kernelspec": {
   "display_name": "Python 3",
   "language": "python",
   "name": "python3"
  },
  "language_info": {
   "codemirror_mode": {
    "name": "ipython",
    "version": 3
   },
   "file_extension": ".py",
   "mimetype": "text/x-python",
   "name": "python",
   "nbconvert_exporter": "python",
   "pygments_lexer": "ipython3",
   "version": "3.9.6"
  }
 },
 "nbformat": 4,
 "nbformat_minor": 2
}
